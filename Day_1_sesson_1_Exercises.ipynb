{
  "nbformat": 4,
  "nbformat_minor": 0,
  "metadata": {
    "colab": {
      "name": "Day 1 sesson 1 Exercises",
      "provenance": [],
      "collapsed_sections": [],
      "authorship_tag": "ABX9TyOt6gnzwU6NX2XNBU/TlGbX",
      "include_colab_link": true
    },
    "kernelspec": {
      "name": "python3",
      "display_name": "Python 3"
    }
  },
  "cells": [
    {
      "cell_type": "markdown",
      "metadata": {
        "id": "view-in-github",
        "colab_type": "text"
      },
      "source": [
        "<a href=\"https://colab.research.google.com/github/Shrikanth-123/workshop-on-python/blob/master/Day_1_sesson_1_Exercises.ipynb\" target=\"_parent\"><img src=\"https://colab.research.google.com/assets/colab-badge.svg\" alt=\"Open In Colab\"/></a>"
      ]
    },
    {
      "cell_type": "markdown",
      "metadata": {
        "id": "kIsaNBkSqVN7",
        "colab_type": "text"
      },
      "source": [
        "1.\tFind the compound interest for the given p,n,r  (formula : p(1+n*r/100)n )"
      ]
    },
    {
      "cell_type": "code",
      "metadata": {
        "id": "79VKoBhCqZiw",
        "colab_type": "code",
        "colab": {
          "base_uri": "https://localhost:8080/",
          "height": 90
        },
        "outputId": "79b4b447-ec36-4267-ce09-4d949ca232b7"
      },
      "source": [
        "\n",
        "p=float(input(\"ENTER PRINCIPLE AMOUNT \"))\n",
        "r=float(input(\"ENTER RATE OF INTEREST \"))\n",
        "n=float(input(\"ENTER TIME(YEARS) \"))\n",
        "amt=p*(pow((1+r/100),n))\n",
        "ci=amt-p\n",
        "print(\"compoud Interest=\",ci)\n"
      ],
      "execution_count": null,
      "outputs": [
        {
          "output_type": "stream",
          "text": [
            "ENTER PRINCIPLE AMOUNT 5000\n",
            "ENTER RATE OF INTEREST 2\n",
            "ENTER TIME(YEARS) 3\n",
            "compoud Interest= 306.0400000000009\n"
          ],
          "name": "stdout"
        }
      ]
    },
    {
      "cell_type": "markdown",
      "metadata": {
        "id": "tyAQVuEXygNZ",
        "colab_type": "text"
      },
      "source": [
        "Convert centegrade to farenheit ( f= 9/5*c+32)"
      ]
    },
    {
      "cell_type": "code",
      "metadata": {
        "id": "YlqkRQ7bynII",
        "colab_type": "code",
        "colab": {
          "base_uri": "https://localhost:8080/",
          "height": 54
        },
        "outputId": "fe7b95f4-76ad-4a24-92df-31491c7bde6f"
      },
      "source": [
        "c=float(input(\"Enter the temperature in CENTIGRADE\"))\n",
        "\n",
        "print(\"The fahrenheit value is \",((9/5*c)+32),\"F\")"
      ],
      "execution_count": null,
      "outputs": [
        {
          "output_type": "stream",
          "text": [
            "Enter the temperature in CENTIGRADE32\n",
            "The fahrenheit value is  89.6 F\n"
          ],
          "name": "stdout"
        }
      ]
    },
    {
      "cell_type": "markdown",
      "metadata": {
        "id": "IpTK2GQRzkox",
        "colab_type": "text"
      },
      "source": [
        "Find the greater of two numbers"
      ]
    },
    {
      "cell_type": "code",
      "metadata": {
        "id": "5fEvvRd2z3w8",
        "colab_type": "code",
        "colab": {
          "base_uri": "https://localhost:8080/",
          "height": 72
        },
        "outputId": "fd3f0400-1196-43f2-8435-ea9d2f37beac"
      },
      "source": [
        "a=float(input(\"Enter the value of a \"))\n",
        "b=float(input(\"Enter the value of b \"))\n",
        "if(a>b):\n",
        "  print(\"a is greater\")\n",
        "else:\n",
        "  print(\"b is greater\") "
      ],
      "execution_count": null,
      "outputs": [
        {
          "output_type": "stream",
          "text": [
            "Enter the value of a 25\n",
            "Enter the value of b 15\n",
            "a is greater\n"
          ],
          "name": "stdout"
        }
      ]
    },
    {
      "cell_type": "markdown",
      "metadata": {
        "id": "2zeBdxqp045U",
        "colab_type": "text"
      },
      "source": [
        "Write a program for finding surface areas of cylinder and cone (2PIrrh, 1/3PIrrh) using function"
      ]
    },
    {
      "cell_type": "code",
      "metadata": {
        "id": "C5CNZj681GRo",
        "colab_type": "code",
        "colab": {
          "base_uri": "https://localhost:8080/",
          "height": 126
        },
        "outputId": "b2da407d-b7a5-400e-903b-79f740b0b1c3"
      },
      "source": [
        "pi=3.147\n",
        "r=float(input(\"Enter the radius of the Cylinder \"))\n",
        "h=float(input(\"Enter the height of the Cylinder \"))\n",
        "print(\"The suraface area of the cylinder is \",(2*pi*r*r*h))\n",
        "r=float(input(\"Enter the radius of Cone \"))\n",
        "h=float(input(\"Enter the height of Cone \"))\n",
        "print(\"The surface area of the cone is \",(1/3*pi*r*r*h))"
      ],
      "execution_count": null,
      "outputs": [
        {
          "output_type": "stream",
          "text": [
            "Enter the radius of the Cylinder 3\n",
            "Enter the height of the Cylinder 5\n",
            "The suraface area of the cylinder is  283.22999999999996\n",
            "Enter the radius of Cone 3\n",
            "Enter the height of Cone 5\n",
            "The surface area of the cone is  47.205\n"
          ],
          "name": "stdout"
        }
      ]
    },
    {
      "cell_type": "markdown",
      "metadata": {
        "id": "koR6ufGA1ElI",
        "colab_type": "text"
      },
      "source": [
        "Find the greatest of four number ( using ‘and’ operator) using function"
      ]
    },
    {
      "cell_type": "code",
      "metadata": {
        "id": "vG4L9egR5Rzd",
        "colab_type": "code",
        "colab": {
          "base_uri": "https://localhost:8080/",
          "height": 35
        },
        "outputId": "d1c554b3-d753-421f-d461-32455f637006"
      },
      "source": [
        "def greatest(a,b,c,d):\n",
        "    if((a>b) and (a>c) and (a>c)):\n",
        "      print(a, \"is greater\")\n",
        "    elif((b>a)and (b>c) and (b>d)):\n",
        "        print(b, \" is greater\")\n",
        "    elif((c>a)and (c>b) and (c>d)):\n",
        "        print(c, \" is greater\")\n",
        "    else:\n",
        "        print(d, \"is greater\")\n",
        "\n",
        "greatest(100,500,300,200)\n",
        "\n"
      ],
      "execution_count": null,
      "outputs": [
        {
          "output_type": "stream",
          "text": [
            "500  is greater\n"
          ],
          "name": "stdout"
        }
      ]
    },
    {
      "cell_type": "markdown",
      "metadata": {
        "id": "KSJh4K9J9pRx",
        "colab_type": "text"
      },
      "source": [
        "\n",
        "Write a menu program to perform the operations ( ODDorEven, Factorial, ODDNoUptoN, PrimeUptoN ) using functions for two nos with menu choice"
      ]
    },
    {
      "cell_type": "code",
      "metadata": {
        "id": "bo4ZLB9U9qzD",
        "colab_type": "code",
        "colab": {
          "base_uri": "https://localhost:8080/",
          "height": 926
        },
        "outputId": "6a81e848-b285-4286-b1b0-ace09c2db80f"
      },
      "source": [
        "def OddOrEven(n):\n",
        "  if(n%2==0):\n",
        "      print(\"Even\")\n",
        "  else:\n",
        "      print(\"Odd\")\n",
        "\n",
        "def Factorial(n):\n",
        "  fact=1\n",
        "  while(n>0):\n",
        "    fact=fact*n\n",
        "    n=n-1\n",
        "  print(\"Factorial of the number is: \")\n",
        "  print(fact)\n",
        "\n",
        "def oddno(n):\n",
        "  for i in range(1,n):\n",
        "    if(i%2!=0):\n",
        "      print(i)\n",
        "\n",
        "def prime(n):\n",
        "    for num1 in range(1, n + 1):\n",
        "      if num1 > 1:\n",
        "       for i in range(2, num1):\n",
        "           if (num1 % i) == 0:\n",
        "               break\n",
        "       else:\n",
        "           print(num1)\n",
        "\n",
        "loop=1\n",
        "while loop == 1:\n",
        "    print (\"your options are:\")\n",
        "    print (\" \")\n",
        "    print(\"1. ODD or EVEN\")\n",
        "    print(\"2. Factorial\")\n",
        "    print(\"3. Odd number\")\n",
        "    print(\"4. Prime number\")\n",
        "    print(\"5. GO BACK\")\n",
        "    try:\n",
        "        choice = int(input(\"Choose your option from above list: \"))\n",
        "    except:\n",
        "        print(\"!!!!!!!please enter a valid number \\n \")\n",
        "  \n",
        "    if choice == 1:\n",
        "        n = int(input(\"Enter the  no: \"))\n",
        "        OddOrEven(n)\n",
        "    elif choice == 2:\n",
        "       n = int(input(\"Enter the  no: \"))\n",
        "       Factorial(n)\n",
        "    elif choice == 3:\n",
        "        n = int(input(\"Enter the  no: \"))\n",
        "        oddno(n)\n",
        "    elif choice == 4:\n",
        "        n = int(input(\"Enter the  no: \"))\n",
        "        prime(n)\n",
        "    elif choice==5:\n",
        "          loop=0\n",
        "    else:\n",
        "        print(\"please choice a valid option from 1 to 4\")\n",
        "       "
      ],
      "execution_count": null,
      "outputs": [
        {
          "output_type": "stream",
          "text": [
            "your options are:\n",
            " \n",
            "1. ODD or EVEN\n",
            "2. Factorial\n",
            "3. Odd number\n",
            "4. Prime number\n",
            "5. GO BACK\n",
            "Choose your option from above list: 3\n",
            "Enter the  no: 4\n",
            "1\n",
            "3\n",
            "your options are:\n",
            " \n",
            "1. ODD or EVEN\n",
            "2. Factorial\n",
            "3. Odd number\n",
            "4. Prime number\n",
            "5. GO BACK\n",
            "Choose your option from above list: 1\n",
            "Enter the  no: 35\n",
            "Odd\n",
            "your options are:\n",
            " \n",
            "1. ODD or EVEN\n",
            "2. Factorial\n",
            "3. Odd number\n",
            "4. Prime number\n",
            "5. GO BACK\n",
            "Choose your option from above list: 4\n",
            "Enter the  no: 1\n",
            "your options are:\n",
            " \n",
            "1. ODD or EVEN\n",
            "2. Factorial\n",
            "3. Odd number\n",
            "4. Prime number\n",
            "5. GO BACK\n",
            "Choose your option from above list: 4\n",
            "Enter the  no: 5\n",
            "2\n",
            "3\n",
            "5\n",
            "your options are:\n",
            " \n",
            "1. ODD or EVEN\n",
            "2. Factorial\n",
            "3. Odd number\n",
            "4. Prime number\n",
            "5. GO BACK\n",
            "Choose your option from above list: 5\n"
          ],
          "name": "stdout"
        }
      ]
    }
  ]
}